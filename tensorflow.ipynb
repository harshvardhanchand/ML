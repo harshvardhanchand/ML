{
 "cells": [
  {
   "cell_type": "code",
   "execution_count": 1,
   "id": "bd667a5a",
   "metadata": {
    "_cell_guid": "b1076dfc-b9ad-4769-8c92-a6c4dae69d19",
    "_uuid": "8f2839f25d086af736a60e9eeb907d3b93b6e0e5",
    "execution": {
     "iopub.execute_input": "2022-07-19T10:20:45.426891Z",
     "iopub.status.busy": "2022-07-19T10:20:45.426201Z",
     "iopub.status.idle": "2022-07-19T10:20:45.439549Z",
     "shell.execute_reply": "2022-07-19T10:20:45.438340Z"
    },
    "papermill": {
     "duration": 0.021337,
     "end_time": "2022-07-19T10:20:45.442848",
     "exception": false,
     "start_time": "2022-07-19T10:20:45.421511",
     "status": "completed"
    },
    "tags": []
   },
   "outputs": [],
   "source": [
    "# This Python 3 environment comes with many helpful analytics libraries installed\n",
    "# It is defined by the kaggle/python Docker image: https://github.com/kaggle/docker-python\n",
    "# For example, here's several helpful packages to load\n",
    "\n",
    "import numpy as np # linear algebra\n",
    "import pandas as pd # data processing, CSV file I/O (e.g. pd.read_csv)\n",
    "\n",
    "# Input data files are available in the read-only \"../input/\" directory\n",
    "# For example, running this (by clicking run or pressing Shift+Enter) will list all files under the input directory\n",
    "\n",
    "import os\n",
    "for dirname, _, filenames in os.walk('/kaggle/input'):\n",
    "    for filename in filenames:\n",
    "        print(os.path.join(dirname, filename))\n",
    "\n",
    "# You can write up to 20GB to the current directory (/kaggle/working/) that gets preserved as output when you create a version using \"Save & Run All\" \n",
    "# You can also write temporary files to /kaggle/temp/, but they won't be saved outside of the current session"
   ]
  },
  {
   "cell_type": "code",
   "execution_count": 2,
   "id": "01449639",
   "metadata": {
    "execution": {
     "iopub.execute_input": "2022-07-19T10:20:45.449091Z",
     "iopub.status.busy": "2022-07-19T10:20:45.448692Z",
     "iopub.status.idle": "2022-07-19T10:20:55.080254Z",
     "shell.execute_reply": "2022-07-19T10:20:55.079114Z"
    },
    "papermill": {
     "duration": 9.638433,
     "end_time": "2022-07-19T10:20:55.083708",
     "exception": false,
     "start_time": "2022-07-19T10:20:45.445275",
     "status": "completed"
    },
    "tags": []
   },
   "outputs": [
    {
     "name": "stderr",
     "output_type": "stream",
     "text": [
      "2022-07-19 10:20:54.873739: I tensorflow/core/common_runtime/process_util.cc:146] Creating new thread pool with default inter op setting: 2. Tune using inter_op_parallelism_threads for best performance.\n"
     ]
    }
   ],
   "source": [
    "import tensorflow as tf\n",
    "from tensorflow.keras.models import Sequential\n",
    "from tensorflow.keras.layers import Dense, Dropout, Activation, Flatten, Conv2D, MaxPooling2D\n",
    "from tensorflow.keras.losses import BinaryCrossentropy\n",
    "model = Sequential(\n",
    "    [\n",
    "        Dense(units =25,activation =\"sigmoid\"),\n",
    "        Dense(units =12,activation =\"sigmoid\"),\n",
    "        Dense(units =1,activation =\"sigmoid\")\n",
    "        \n",
    "    ]\n",
    ")\n",
    "model.compile(loss =BinaryCrossentropy(),optimizer =\"adam\",metrics =[\"accuracy\"])"
   ]
  },
  {
   "cell_type": "code",
   "execution_count": null,
   "id": "76cdb1c1",
   "metadata": {
    "papermill": {
     "duration": 0.001872,
     "end_time": "2022-07-19T10:20:55.088415",
     "exception": false,
     "start_time": "2022-07-19T10:20:55.086543",
     "status": "completed"
    },
    "tags": []
   },
   "outputs": [],
   "source": []
  },
  {
   "cell_type": "code",
   "execution_count": null,
   "id": "c2d22c90",
   "metadata": {
    "papermill": {
     "duration": 0.001778,
     "end_time": "2022-07-19T10:20:55.092164",
     "exception": false,
     "start_time": "2022-07-19T10:20:55.090386",
     "status": "completed"
    },
    "tags": []
   },
   "outputs": [],
   "source": []
  }
 ],
 "metadata": {
  "kernelspec": {
   "display_name": "Python 3",
   "language": "python",
   "name": "python3"
  },
  "language_info": {
   "codemirror_mode": {
    "name": "ipython",
    "version": 3
   },
   "file_extension": ".py",
   "mimetype": "text/x-python",
   "name": "python",
   "nbconvert_exporter": "python",
   "pygments_lexer": "ipython3",
   "version": "3.7.12"
  },
  "papermill": {
   "default_parameters": {},
   "duration": 22.442073,
   "end_time": "2022-07-19T10:20:58.674292",
   "environment_variables": {},
   "exception": null,
   "input_path": "__notebook__.ipynb",
   "output_path": "__notebook__.ipynb",
   "parameters": {},
   "start_time": "2022-07-19T10:20:36.232219",
   "version": "2.3.4"
  }
 },
 "nbformat": 4,
 "nbformat_minor": 5
}
